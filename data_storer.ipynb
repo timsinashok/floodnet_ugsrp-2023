{
 "cells": [
  {
   "cell_type": "markdown",
   "id": "0f771619-5670-41c1-9002-7110a5dc2c57",
   "metadata": {
    "tags": []
   },
   "source": [
    "### This script stores the data which can be used in differnt other notebooks"
   ]
  },
  {
   "cell_type": "code",
   "execution_count": 1,
   "id": "4a53a653-436b-43fe-b692-35d7f7441f52",
   "metadata": {
    "tags": []
   },
   "outputs": [],
   "source": [
    "import pandas as pd\n",
    "import numpy as np"
   ]
  },
  {
   "cell_type": "markdown",
   "id": "03e91496-129e-400d-9ef1-a7e288cb80f4",
   "metadata": {},
   "source": [
    "We have differnt different type of data. "
   ]
  },
  {
   "cell_type": "markdown",
   "id": "ad8a3dd2-332b-4f86-81b8-74d2f882d9e1",
   "metadata": {},
   "source": [
    "#### This loads all the data for past 100 days in a dictionary that has dataframes"
   ]
  },
  {
   "cell_type": "code",
   "execution_count": 3,
   "id": "ebab3e91-9622-4d61-b5b6-48029dcd17be",
   "metadata": {
    "tags": []
   },
   "outputs": [
    {
     "name": "stdout",
     "output_type": "stream",
     "text": [
      "Stored 'dataframes_100' (dict)\n"
     ]
    }
   ],
   "source": [
    "import os\n",
    "\n",
    "folder_path = 'all_data_100_days/'  # Replace with the actual folder path\n",
    "\n",
    "# Get a list of all files in the folder\n",
    "files = os.listdir(folder_path)\n",
    "\n",
    "sensors = []\n",
    "i = 0\n",
    "\n",
    "dataframes_100 = {}\n",
    "\n",
    "\n",
    "for file in files:\n",
    "    if file == '.DS_Store':\n",
    "        pass\n",
    "    else:\n",
    "        name = file.replace('.csv', '')\n",
    "        sensors.append(name)\n",
    "        #print(file)\n",
    "\n",
    "        # adding data from csv file to the list of data which is placed in dataframe which is a list\n",
    "        dataframes_100[name] = pd.read_csv(folder_path + file)\n",
    "%store dataframes_100"
   ]
  },
  {
   "cell_type": "code",
   "execution_count": 4,
   "id": "c9192799-8985-4ec4-a25c-ae985d64ba37",
   "metadata": {
    "tags": []
   },
   "outputs": [
    {
     "data": {
      "text/plain": [
       "54"
      ]
     },
     "execution_count": 4,
     "metadata": {},
     "output_type": "execute_result"
    }
   ],
   "source": [
    "len(dataframes_100)"
   ]
  },
  {
   "cell_type": "code",
   "execution_count": null,
   "id": "91388794-61fc-4fd4-b4b1-810b8d067ab4",
   "metadata": {},
   "outputs": [],
   "source": []
  }
 ],
 "metadata": {
  "kernelspec": {
   "display_name": "floodnet",
   "language": "python",
   "name": "floodnet"
  },
  "language_info": {
   "codemirror_mode": {
    "name": "ipython",
    "version": 3
   },
   "file_extension": ".py",
   "mimetype": "text/x-python",
   "name": "python",
   "nbconvert_exporter": "python",
   "pygments_lexer": "ipython3",
   "version": "3.7.0"
  }
 },
 "nbformat": 4,
 "nbformat_minor": 5
}
