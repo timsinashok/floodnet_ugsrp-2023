{
 "cells": [
  {
   "cell_type": "markdown",
   "id": "a7325665-65a5-4675-83ad-b4959a75b8d5",
   "metadata": {
    "tags": []
   },
   "source": [
    "Date : June 15  \n",
    "Author : Ashok"
   ]
  },
  {
   "cell_type": "markdown",
   "id": "264c2d22-dcaa-474b-9def-cc25101e59dd",
   "metadata": {},
   "source": [
    "The following three cells are taken from the \"Carroll4th Cloud Coverage Data-Copy1.ipynb\" present [here](https://github.com/floodnet-nyc/Solar-Coverage-Data/blob/main/Carroll4th%20Cloud%20Coverage%20Data-Copy1.ipynb) but are modified to query data for any number of days one wants to. "
   ]
  },
  {
   "cell_type": "code",
   "execution_count": 5,
   "id": "5b1df3de-b72a-4975-be4b-fe3c191f4f88",
   "metadata": {},
   "outputs": [],
   "source": [
    "import pandas as pd\n",
    "import numpy as np\n",
    "import matplotlib.pyplot as plt\n",
    "import urllib3\n",
    "urllib3.disable_warnings()\n",
    "import matplotlib.pyplot as plt\n",
    "import seaborn as sns\n",
    "import numpy as np\n",
    "import matplotlib.ticker\n",
    "import matplotlib.transforms as transforms\n",
    "import matplotlib.patches as mpatches\n",
    "from influxdb_client import InfluxDBClient, Point\n",
    "from influxdb_client.client.write.retry import WritesRetry\n",
    "from influxdb_client.client.write_api import SYNCHRONOUS\n",
    "import geocoder\n",
    "import glob\n",
    "from influxdb_client.domain.write_precision import WritePrecision\n",
    "from datetime import datetime, timedelta\n",
    "import json\n",
    "\n",
    "sns.set(rc = {'figure.figsize':(18,10)})\n",
    "%config InlineBackend.figure_format = 'retina'"
   ]
  },
  {
   "cell_type": "code",
   "execution_count": 6,
   "id": "59eaf261-4744-4eda-ae33-d4a9734e0988",
   "metadata": {
    "tags": []
   },
   "outputs": [],
   "source": [
    "def query_from_influxdb(_url=None,\n",
    "                        _token=None,\n",
    "                        _org=None,\n",
    "                        _id=None,\n",
    "                        _bucket_name=None,\n",
    "                        _columns_to_drop=None,\n",
    "                        _measurement=None,\n",
    "                        _field=None,\n",
    "                       _start = None):\n",
    "    \n",
    "    \"\"\"\n",
    "        Function to query InfluxDB using influxdb-python-client library from https://github.com/influxdata/influxdb-client-python\n",
    "            :param _measurement: Available options are flood-sensor-tidal-sensor-rain-gauge,weather,etc. Default is flood-sensor\n",
    "            :param _field: Available options include batt_v and cloud_percent \n",
    "            :param _url: InfluxDB url\n",
    "            :param _token: API token with read-access\n",
    "            :param _org: InfluxDB organization name\n",
    "            :param _id: Sensor/Deployment ID\n",
    "            :param _bucket_name: Name of the bucket\n",
    "            :param _columns_to_drop: Array-like column names to be dropped\n",
    "        :returns a dataframe with all columns except dropped ones if any\n",
    "    \"\"\"\n",
    "    result = []\n",
    "    p = {\"_id_value\": _id,\n",
    "         \"_bucket_name\": _bucket_name,\n",
    "         \"_measurement\": _measurement, \n",
    "         \"_field\": _field,\n",
    "        \"_start\" : _start }\n",
    "\n",
    "\n",
    "    with InfluxDBClient(url=_url, token=_token, org=_org, timeout=1000000,  verify_ssl = False) as client:\n",
    "        query_api = client.query_api()\n",
    "        if _measurement==\"weather\":  \n",
    "            result = query_api.query_data_frame('''from(bucket: _bucket_name)\n",
    "                                                  |> range(start: _start, stop: now())\n",
    "                                                  |> filter(fn: (r) => r[\"_measurement\"] == _measurement)\n",
    "                                                  |> filter(fn: (r) => r[\"_field\"] == _field)\n",
    "                                                  |> filter(fn: (r) => r[\"sensor_id\"] == _id_value)\n",
    "                                                  |> pivot(rowKey: [\"_time\"], columnKey: [\"_field\"], valueColumn: \"_value\")\n",
    "                                                ''', params=p)   \n",
    "        else:        \n",
    "            result = query_api.query_data_frame('''from(bucket: _bucket_name)\n",
    "                                                |> range(start: _start)       \n",
    "                                                |> filter(fn: (r) => r[\"_measurement\"] == _measurement)\n",
    "                                                |> filter(fn: (r) => r[\"deployment_id\"] == _id_value)\n",
    "                                                |> pivot(rowKey: [\"_time\"], columnKey: [\"_field\"], valueColumn: \"_value\")\n",
    "                                                ''', params=p)\n",
    "\n",
    "        if type(result) == list:\n",
    "            result = pd.concat(result)\n",
    "    #print(result.columns)\n",
    "    result.drop(columns=['_start', '_stop', 'result', 'table'], inplace=True) #result\n",
    "    result.rename(columns={'_time': 'time', '_measurement': 'measurement'}, inplace=True)\n",
    "    result['time'] = pd.to_datetime(result['time'], format=\"%Y-%m-%d %H:%M:%S.%f\", utc=True)\n",
    "    result.set_index('time', inplace=True)\n",
    "    result = result.sort_values(by=['time'])\n",
    "\n",
    "    return result"
   ]
  },
  {
   "cell_type": "code",
   "execution_count": 7,
   "id": "5164ddf3-7bd9-49cd-836d-dc5cc1ed2e5f",
   "metadata": {
    "tags": []
   },
   "outputs": [
    {
     "name": "stdout",
     "output_type": "stream",
     "text": [
      "saveddaily_gentle_beetle.csv\n",
      "savedoverly_heroic_squid.csv\n",
      "savedweekly_poetic_guinea.csv\n",
      "savedvastly_saving_whale.csv\n",
      "savedopenly_driven_tarpon.csv\n",
      "savedjolly_tender_squid.csv\n",
      "saveddaily_new_falcon.csv\n",
      "savedearly_still_frog.csv\n",
      "savedgladly_mint_snail.csv\n",
      "savedweekly_fair_dove.csv\n",
      "savedmainly_whole_slug.csv\n",
      "savedslowly_fast_sawfly.csv\n",
      "savedduly_star_bee.csv\n",
      "savedmildly_calm_ibex.csv\n",
      "savedduly_pro_vervet.csv\n",
      "savedeasily_dear_mouse.csv\n",
      "savedtotal_moccasin_dolphin.csv\n",
      "savedhandsome_violet_leech.csv\n",
      "savedboring_olive_stingray.csv\n",
      "savedtired_red_monkey.csv\n",
      "savedbored_blue_fish.csv\n",
      "saveddaily_happy_satyr.csv\n",
      "savedugliest_cyan_elephant.csv\n",
      "savedasleep_apricot_bedbug.csv\n",
      "savedfuture_aqua_wildcat.csv\n",
      "saveduseless_crimson_rook.csv\n",
      "savedmean_flying_fish.csv\n",
      "savedclosed_wagon_snail.csv\n",
      "savedclearly_bored_turtle.csv\n",
      "savedblue_eyed_tiger.csv\n",
      "savedsimply_half_monkey.csv\n",
      "savedtotal_melt_deer.csv\n",
      "savedlight_maroon_penguin.csv\n",
      "savedunified_angry_donkey.csv\n",
      "savedbig_pink_elephant.csv\n",
      "savedlonely_quiet_bear.csv\n",
      "savedsmall_red_chicken.csv\n",
      "savedrandom_stuck_buffalo.csv\n",
      "savedjolly-novel-boa.csv\n",
      "savedlikely-well-thrush.csv\n",
      "savedsadly-direct-walrus.csv\n",
      "savedpoorly_sunny_earwig.csv\n",
      "savedhighly_comic_akita.csv\n",
      "savedwidely_full_weevil.csv\n",
      "savedpurely_fancy_kite.csv\n",
      "savedhighly_master_pony.csv\n",
      "savedlovely_helped_lamb.csv\n",
      "saveddaily_ace_bear.csv\n",
      "savedslowly_key_husky.csv\n",
      "savedbarely_hot_aphid.csv\n",
      "savedmainly_kind_boxer.csv\n",
      "savedhardly_usable_boxer.csv\n",
      "savedwidely_whole_tarpon.csv\n",
      "savedearly_calm_ghoul.csv\n"
     ]
    }
   ],
   "source": [
    "start_day = 100 ##number of days for which you want to get the data \n",
    "\n",
    "# Get the current date and time\n",
    "current_datetime = datetime.now()\n",
    "\n",
    "# Calculate the date and time exactly start_days days ago\n",
    "start_time = current_datetime - timedelta(days = start_day)\n",
    "\n",
    "# Getting the deployment id\n",
    "sensor_location_data = pd.read_csv(\"Sensor Locations Directory - Internal - street sensors (live).csv\")\n",
    "\n",
    "\n",
    "interested_fields = ['time', 'deployment_id', 'error_flag','batt_v', 'gw_1_id', 'dist_mm', 'f_cnt', 'gw_1_rssi_dbm', 'gw_1_snr_db', 'gw_2_id', 'gw_2_rssi_dbm', 'gw_2_snr_db', 'gw_3_id', 'gw_3_rssi_dbm', 'gw_3_snr_db', ]\n",
    "retrived_df = pd.DataFrame()\n",
    "\n",
    "## loading token from secret.json\n",
    "with open('secrets.json', 'r') as file:\n",
    "    file_contents = json.load(file)\n",
    "    token = file_contents['influx_db']['token']\n",
    "    \n",
    "failed_data_access = []\n",
    "    \n",
    "for deployment_id in sensor_location_data['deployment_id'][1:]:\n",
    "    try:\n",
    "        retrived_df= query_from_influxdb(_url='https://influxdb.floodlabs.nyc/',\n",
    "                           _token=token,\n",
    "                       _org='floodnet',\n",
    "                       _id= deployment_id,\n",
    "                      _bucket_name='floodnet-live',\n",
    "                       _measurement=\"flood-sensor\",\n",
    "                        _start = start_time,\n",
    "                       _field=\"batt_v\",).reset_index()\n",
    "        #[interested_fields]\n",
    "\n",
    "\n",
    "        retrived_df['times'] = retrived_df['time'].dt.time\n",
    "        retrived_df['date'] = retrived_df['time'].dt.date\n",
    "        file_path = deployment_id + \".csv\"\n",
    "        retrived_df.to_csv(file_path)\n",
    "        print(\"saved\" + file_path)\n",
    "    except:\n",
    "        failed_data_access.append(deployment_id)\n",
    "        pass"
   ]
  },
  {
   "cell_type": "code",
   "execution_count": 9,
   "id": "77ab8ce9-6db1-4357-9133-4a702bc8607c",
   "metadata": {},
   "outputs": [
    {
     "data": {
      "text/plain": [
       "['widely_proud_lizard',\n",
       " 'really_vocal_puma',\n",
       " 'evenly_divine_dingo',\n",
       " 'daily_mutual_gnat',\n",
       " 'easily_cosmic_slug',\n",
       " 'simply_pet_joey',\n",
       " 'mainly_fond_boar',\n",
       " 'disabled_pink_prawn',\n",
       " '(not yet live)',\n",
       " 'mostly_ample_newt',\n",
       " 'deadly_trusty_troll',\n",
       " 'humbly_modest_vervet']"
      ]
     },
     "execution_count": 9,
     "metadata": {},
     "output_type": "execute_result"
    }
   ],
   "source": [
    "failed_data_access"
   ]
  },
  {
   "cell_type": "code",
   "execution_count": null,
   "id": "075545e0-72c1-4ed1-b691-371916a7ebf4",
   "metadata": {},
   "outputs": [],
   "source": []
  }
 ],
 "metadata": {
  "kernelspec": {
   "display_name": "floodnet",
   "language": "python",
   "name": "floodnet"
  },
  "language_info": {
   "codemirror_mode": {
    "name": "ipython",
    "version": 3
   },
   "file_extension": ".py",
   "mimetype": "text/x-python",
   "name": "python",
   "nbconvert_exporter": "python",
   "pygments_lexer": "ipython3",
   "version": "3.7.0"
  }
 },
 "nbformat": 4,
 "nbformat_minor": 5
}
