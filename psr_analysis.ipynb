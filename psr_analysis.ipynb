{
 "cells": [
  {
   "cell_type": "markdown",
   "id": "9aec499c-8631-4377-afdc-78df7905cbd1",
   "metadata": {},
   "source": [
    "## PSR Analysis\n",
    "\n",
    "PSR is the number of packets that went through gateway divided by the total number of attempts made by sensor. "
   ]
  },
  {
   "cell_type": "code",
   "execution_count": 12,
   "id": "f1c87bd5-968d-4cd1-a418-ea54af3f2bd6",
   "metadata": {
    "tags": []
   },
   "outputs": [],
   "source": [
    "import pandas as pd\n",
    "import numpy as np\n",
    "import seaborn as sns\n",
    "import matplotlib.pyplot as plt\n"
   ]
  },
  {
   "cell_type": "code",
   "execution_count": 13,
   "id": "0a82050e-f151-45ad-8ad3-94cdd8a75057",
   "metadata": {
    "tags": []
   },
   "outputs": [],
   "source": [
    "# restoring stored dataframes variable\n",
    "%store -r "
   ]
  },
  {
   "cell_type": "code",
   "execution_count": 14,
   "id": "5af5e11d-2b0a-4921-be41-0098bccf415b",
   "metadata": {
    "tags": []
   },
   "outputs": [],
   "source": [
    "sensors = list(dataframes.keys())"
   ]
  },
  {
   "cell_type": "code",
   "execution_count": 15,
   "id": "64245ac0-00bb-4021-8b66-bf2a6f5f13db",
   "metadata": {
    "tags": []
   },
   "outputs": [],
   "source": [
    "sns.set(rc = {'figure.figsize':(100,100)})\n",
    "%config InlineBackend.figure_format = 'retina'"
   ]
  },
  {
   "cell_type": "code",
   "execution_count": 16,
   "id": "f53d37c3-0023-4b80-a426-65e1ad53ede6",
   "metadata": {
    "tags": []
   },
   "outputs": [],
   "source": [
    "i = 1\n",
    "good_snr = 0\n",
    "for sensor in sensors:\n",
    "    data = dataframes[sensor]\n",
    "    data['time'] = pd.to_datetime(data['time'])\n",
    "    \n",
    "    if data.shape[0] == 0:\n",
    "        continue\n",
    "    \n",
    "    hourly_average = (data.set_index('time')['batt_v'].resample('1H').count())/60\n",
    "    df = pd.DataFrame(hourly_average)\n",
    "    \n",
    "    if (df['batt_v'] > 1).any():\n",
    "        print('true')\n",
    "        good_snr += 1\n",
    "        plt.subplot(27,2, i)\n",
    "        sns.histplot(df)\n",
    "        plt.title(sensor)\n",
    "        plt.plot()\n",
    "\n",
    "        i += 1\n",
    "       "
   ]
  },
  {
   "cell_type": "code",
   "execution_count": null,
   "id": "df35f8e7-de0e-471e-9efe-dbb065d1d1c7",
   "metadata": {},
   "outputs": [],
   "source": []
  }
 ],
 "metadata": {
  "kernelspec": {
   "display_name": "floodnet",
   "language": "python",
   "name": "floodnet"
  },
  "language_info": {
   "codemirror_mode": {
    "name": "ipython",
    "version": 3
   },
   "file_extension": ".py",
   "mimetype": "text/x-python",
   "name": "python",
   "nbconvert_exporter": "python",
   "pygments_lexer": "ipython3",
   "version": "3.7.0"
  }
 },
 "nbformat": 4,
 "nbformat_minor": 5
}
