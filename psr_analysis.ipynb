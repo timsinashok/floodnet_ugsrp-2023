{
 "cells": [
  {
   "cell_type": "markdown",
   "id": "9aec499c-8631-4377-afdc-78df7905cbd1",
   "metadata": {},
   "source": [
    "## PSR Analysis\n",
    "\n",
    "PSR is the number of packets that went through gateway divided by the total number of attempts made by sensor. "
   ]
  },
  {
   "cell_type": "markdown",
   "id": "b95af679-af39-4780-a09a-6fd533e91717",
   "metadata": {},
   "source": [
    "#### PSR Analysis using the old definition : (no of data points received / 60)"
   ]
  },
  {
   "cell_type": "code",
   "execution_count": 1,
   "id": "f1c87bd5-968d-4cd1-a418-ea54af3f2bd6",
   "metadata": {
    "tags": []
   },
   "outputs": [],
   "source": [
    "import pandas as pd\n",
    "import numpy as np\n",
    "import seaborn as sns\n",
    "import matplotlib.pyplot as plt\n"
   ]
  },
  {
   "cell_type": "code",
   "execution_count": 2,
   "id": "0a82050e-f151-45ad-8ad3-94cdd8a75057",
   "metadata": {
    "tags": []
   },
   "outputs": [],
   "source": [
    "# restoring stored dataframes variable\n",
    "%store -r "
   ]
  },
  {
   "cell_type": "code",
   "execution_count": 3,
   "id": "5af5e11d-2b0a-4921-be41-0098bccf415b",
   "metadata": {
    "tags": []
   },
   "outputs": [],
   "source": [
    "sensors = list(dataframes.keys())"
   ]
  },
  {
   "cell_type": "code",
   "execution_count": 4,
   "id": "64245ac0-00bb-4021-8b66-bf2a6f5f13db",
   "metadata": {
    "tags": []
   },
   "outputs": [],
   "source": [
    "sns.set(rc = {'figure.figsize':(100,100)})\n",
    "%config InlineBackend.figure_format = 'retina'"
   ]
  },
  {
   "cell_type": "code",
   "execution_count": null,
   "id": "f53d37c3-0023-4b80-a426-65e1ad53ede6",
   "metadata": {
    "tags": []
   },
   "outputs": [],
   "source": [
    "i = 0\n",
    "good_snr = 0\n",
    "for sensor in sensors:\n",
    "    data = dataframes[sensor]\n",
    "    data['time'] = pd.to_datetime(data['time'])\n",
    "    \n",
    "    if data.shape[0] == 0:\n",
    "        continue\n",
    "    \n",
    "    hourly_average = (data.set_index('time')['batt_v'].resample('1H').count())/60\n",
    "    df = pd.DataFrame(hourly_average)\n",
    "    \n",
    "    if (df['batt_v'] < 1).any():\n",
    "        good_snr += 1\n",
    "        plt.subplot(27,2, i)\n",
    "        sns.histplot(df)\n",
    "        plt.title(sensor)\n",
    "        plt.plot()\n",
    "\n",
    "        i += 1\n",
    "print(f\"{i} sensors have psr less than 1.\")"
   ]
  },
  {
   "cell_type": "markdown",
   "id": "10fe7b75-d140-4a82-a44f-ffa9c9b225e8",
   "metadata": {},
   "source": [
    "It seems that according to old definition of PSR all sensors have PSR less than 1. Although we saw sensors sending data even before a minute, PSR says everything is fine. This might also point that we might not be receiving data every minute in some cases. "
   ]
  },
  {
   "cell_type": "markdown",
   "id": "246968ad-772f-4842-8f15-7ed2c2db8cb5",
   "metadata": {},
   "source": [
    "#### PSR Analysis using the old definition : Using f_count"
   ]
  },
  {
   "cell_type": "code",
   "execution_count": null,
   "id": "677d6a43-41e8-4cbf-951c-f2a23b9b4c38",
   "metadata": {},
   "outputs": [],
   "source": []
  }
 ],
 "metadata": {
  "kernelspec": {
   "display_name": "floodnet",
   "language": "python",
   "name": "floodnet"
  },
  "language_info": {
   "codemirror_mode": {
    "name": "ipython",
    "version": 3
   },
   "file_extension": ".py",
   "mimetype": "text/x-python",
   "name": "python",
   "nbconvert_exporter": "python",
   "pygments_lexer": "ipython3",
   "version": "3.7.0"
  }
 },
 "nbformat": 4,
 "nbformat_minor": 5
}
