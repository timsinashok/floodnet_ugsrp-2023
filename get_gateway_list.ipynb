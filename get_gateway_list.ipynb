{
 "cells": [
  {
   "cell_type": "markdown",
   "id": "0c59f78a-05ce-404c-a179-b1bdcbadee34",
   "metadata": {},
   "source": [
    "## This notebook gets the detail of gateways from the things network database and saves it in a csv file. \n",
    "It queries for gateway_id, eui, name, gateway_server_address, description and frequency_plan_ids associated with the gateways."
   ]
  },
  {
   "cell_type": "code",
   "execution_count": 5,
   "id": "3f39440a-284e-45ce-bc87-6a5416032bc5",
   "metadata": {
    "tags": []
   },
   "outputs": [],
   "source": [
    "import requests\n",
    "import pandas as pd"
   ]
  },
  {
   "cell_type": "code",
   "execution_count": 6,
   "id": "c5b25b6c-b8ba-4d9e-ace3-847e8f9be79a",
   "metadata": {
    "tags": []
   },
   "outputs": [],
   "source": [
    "## getting api key from secrets.json\n",
    "import json\n",
    "\n",
    "with open('secrets.json', 'r') as file:\n",
    "    file_contents = json.load(file)\n",
    "    api_key = file_contents['the_things_network']['api_key']"
   ]
  },
  {
   "cell_type": "code",
   "execution_count": 11,
   "id": "42acc95f-9746-4632-b59d-76ce33f8f53e",
   "metadata": {
    "tags": []
   },
   "outputs": [],
   "source": [
    "# API endpoint URL\n",
    "url = \"https://eu1.cloud.thethings.network/api/v3/gateways?page=1&limit=20&order=-created_at&field_mask=name,description,frequency_plan_ids,gateway_server_address,locations\"\n",
    "\n",
    "# API key for authentication\n",
    "# Removed this section after adding secrets.json\n",
    "\n",
    "# Request headers\n",
    "headers = {\n",
    "    \"Authorization\": f\"Bearer {api_key}\",\n",
    "    \"Content-Type\": \"application/json\"\n",
    "\n",
    "}"
   ]
  },
  {
   "cell_type": "code",
   "execution_count": 12,
   "id": "9c77d36b-d6b0-4827-8bd8-e504f104adc9",
   "metadata": {
    "tags": []
   },
   "outputs": [
    {
     "name": "stdout",
     "output_type": "stream",
     "text": [
      "Request failed with status code 400\n"
     ]
    }
   ],
   "source": [
    "try:\n",
    "    # Send GET request to the API endpoint\n",
    "    response = requests.get(url, headers=headers)\n",
    "\n",
    "    # Check if the request was successful (status code 200)\n",
    "    if response.status_code == 200:\n",
    "        # Access the response data\n",
    "        data = response.json()\n",
    "\n",
    "        # Process the data as needed\n",
    "        gateway_list = data[\"gateways\"]\n",
    "\n",
    "        # Convert the list of dictionaries to a DataFrame\n",
    "        df = pd.DataFrame(gateway_list)\n",
    "\n",
    "        # Specify the desired columns\n",
    "#         columns = ['ids', \"name\", \"gateway_server_address\", \"description\", \"frequency_plan_ids\"]\n",
    "\n",
    "#         # Subset the DataFrame with the desired columns\n",
    "#         df_subset = df[columns]\n",
    "\n",
    "    else:\n",
    "        print(f\"Request failed with status code {response.status_code}\")\n",
    "except requests.exceptions.RequestException as e:\n",
    "    print(f\"An error occurred: {e}\")\n"
   ]
  },
  {
   "cell_type": "code",
   "execution_count": 10,
   "id": "9b555d08-b53a-4617-920c-c3d9ff05adba",
   "metadata": {},
   "outputs": [
    {
     "data": {
      "text/plain": [
       "{'gateways': [{'ids': {'gateway_id': 'floodnet-5532322030005e00',\n",
       "    'eui': '5532322030005E00'},\n",
       "   'created_at': '2023-06-23T17:11:19.304908Z',\n",
       "   'updated_at': '2023-06-23T17:11:19.304909Z',\n",
       "   'name': 'FloodNet mobile gateway ',\n",
       "   'gateway_server_address': 'nam1.cloud.thethings.network',\n",
       "   'frequency_plan_id': 'US_902_928_FSB_2',\n",
       "   'frequency_plan_ids': ['US_902_928_FSB_2']},\n",
       "  {'ids': {'gateway_id': 'floodnet-ltap-gw-553232200e001300',\n",
       "    'eui': '553232200E001300'},\n",
       "   'created_at': '2023-03-31T21:17:54.751061Z',\n",
       "   'updated_at': '2023-06-15T20:40:49.896677Z',\n",
       "   'name': 'FloodNet ltap - PS181Q',\n",
       "   'description': 'SIM ID: 8901260882286249401',\n",
       "   'gateway_server_address': 'nam1.cloud.thethings.network',\n",
       "   'frequency_plan_id': 'US_902_928_FSB_2',\n",
       "   'frequency_plan_ids': ['US_902_928_FSB_2']},\n",
       "  {'ids': {'gateway_id': 'floodnet-ltap-gw-553232201d004100',\n",
       "    'eui': '553232201D004100'},\n",
       "   'created_at': '2023-03-24T00:30:10.006768Z',\n",
       "   'updated_at': '2023-03-27T14:26:09.357304Z',\n",
       "   'name': 'floodnet ltap for Ocean Breeze - SI #2',\n",
       "   'description': 'vpn4.remotewinbox.com:16147\\nIMEI:861641041237263\\nIMSI:310260888239004\\nUICC:8901260882282390043\\n',\n",
       "   'gateway_server_address': 'nam1.cloud.thethings.network',\n",
       "   'frequency_plan_id': 'US_902_928_FSB_2',\n",
       "   'frequency_plan_ids': ['US_902_928_FSB_2']},\n",
       "  {'ids': {'gateway_id': 'floodnet-ltap-gw-553232201d003500',\n",
       "    'eui': '553232201D003500'},\n",
       "   'created_at': '2023-02-06T20:35:04.477196Z',\n",
       "   'updated_at': '2023-02-21T16:17:09.428761Z',\n",
       "   'name': 'FloodNet/NYC Mesh - Vernon',\n",
       "   'description': 'SIM ID: 8901260882280552701',\n",
       "   'gateway_server_address': 'nam1.cloud.thethings.network',\n",
       "   'frequency_plan_id': 'US_902_928_FSB_2',\n",
       "   'frequency_plan_ids': ['US_902_928_FSB_2']},\n",
       "  {'ids': {'gateway_id': 'gateway-drexel1', 'eui': '3235313249002900'},\n",
       "   'created_at': '2022-08-04T15:38:25.115Z',\n",
       "   'updated_at': '2022-08-04T15:40:17.220Z',\n",
       "   'gateway_server_address': 'nam1.cloud.thethings.network',\n",
       "   'frequency_plan_id': 'US_902_928_FSB_2',\n",
       "   'frequency_plan_ids': ['US_902_928_FSB_2']},\n",
       "  {'ids': {'gateway_id': 'fngw-10006', 'eui': '343632381F006B00'},\n",
       "   'created_at': '2022-06-21T21:21:29.543Z',\n",
       "   'updated_at': '2023-03-20T16:48:36.347777Z',\n",
       "   'name': 'floodnet at PRHS - SI',\n",
       "   'description': 'vpn3.remotewinbox.com:36641\\n',\n",
       "   'gateway_server_address': 'nam1.cloud.thethings.network',\n",
       "   'frequency_plan_id': 'US_902_928_FSB_2',\n",
       "   'frequency_plan_ids': ['US_902_928_FSB_2']},\n",
       "  {'ids': {'gateway_id': 'floodnet-ltap-gw-553232201e001500',\n",
       "    'eui': '553232201E001500'},\n",
       "   'created_at': '2022-05-25T02:18:12.468Z',\n",
       "   'updated_at': '2023-04-10T13:12:21.277480Z',\n",
       "   'name': 'FloodNet South Jamaica Houses',\n",
       "   'description': 'SIM ID: 8901260882280553865',\n",
       "   'gateway_server_address': 'nam1.cloud.thethings.network',\n",
       "   'frequency_plan_id': 'US_902_928_FSB_2',\n",
       "   'frequency_plan_ids': ['US_902_928_FSB_2']},\n",
       "  {'ids': {'gateway_id': 'floodnet-ltap-gw-5532322031005e00',\n",
       "    'eui': '5532322031005E00'},\n",
       "   'created_at': '2022-04-20T18:47:58.555Z',\n",
       "   'updated_at': '2023-07-17T22:13:23.281475Z',\n",
       "   'name': 'fn ltap for Island City #1',\n",
       "   'description': 'vpn3.remotewinbox.com:47482\\nIMEI: 861641041278291\\nIMSI: 310260888238948\\nUICC: 8901260882282389482',\n",
       "   'gateway_server_address': 'nam1.cloud.thethings.network',\n",
       "   'frequency_plan_id': 'US_902_928_FSB_2',\n",
       "   'frequency_plan_ids': ['US_902_928_FSB_2']},\n",
       "  {'ids': {'gateway_id': 'floodnet-lr9-gw-3235313229006900',\n",
       "    'eui': '3235313229006900'},\n",
       "   'created_at': '2022-04-01T16:58:22.112Z',\n",
       "   'updated_at': '2022-12-20T21:09:13.498613Z',\n",
       "   'name': 'FloodNet Gowanus LR9',\n",
       "   'description': 'FloodNet Gowanus LR9',\n",
       "   'gateway_server_address': 'nam1.cloud.thethings.network',\n",
       "   'frequency_plan_id': 'US_902_928_FSB_2',\n",
       "   'frequency_plan_ids': ['US_902_928_FSB_2']},\n",
       "  {'ids': {'gateway_id': 'fngw-10003', 'eui': '343632381E005B00'},\n",
       "   'created_at': '2022-03-29T17:17:14.267Z',\n",
       "   'updated_at': '2023-03-20T16:47:49.904242Z',\n",
       "   'name': 'floodnet at CSI R1 bldg - SI',\n",
       "   'description': 'College of Staten Island, CUNY, rec bldg rooftop\\nwifi JhGH87&67!#\\nrouterOS admin N63n5adm1n\\nvpn3.remotewinbox.com:3767',\n",
       "   'gateway_server_address': 'nam1.cloud.thethings.network',\n",
       "   'frequency_plan_id': 'US_902_928_FSB_2',\n",
       "   'frequency_plan_ids': ['US_902_928_FSB_2']},\n",
       "  {'ids': {'gateway_id': 'floodnet-ltap-gw-313330372b002900',\n",
       "    'eui': '313330372B002900'},\n",
       "   'created_at': '2022-02-10T13:29:23.475Z',\n",
       "   'updated_at': '2022-12-20T21:09:44.763376Z',\n",
       "   'name': 'FloodNet Bronx River House',\n",
       "   'gateway_server_address': 'nam1.cloud.thethings.network',\n",
       "   'frequency_plan_id': 'US_902_928_FSB_2',\n",
       "   'frequency_plan_ids': ['US_902_928_FSB_2']},\n",
       "  {'ids': {'gateway_id': 'floodnet-ltap-gw-313330372b007400',\n",
       "    'eui': '313330372B007400'},\n",
       "   'created_at': '2022-02-08T20:24:23.791Z',\n",
       "   'updated_at': '2023-02-15T14:43:46.316353Z',\n",
       "   'name': 'FloodNet/Voltaic Navy Yard (313330372b007400)',\n",
       "   'description': 'WiFi AP: floodnet-ltap-ap\\nOff grid power setup\\nCell ID: 8901260882280552719',\n",
       "   'gateway_server_address': 'nam1.cloud.thethings.network',\n",
       "   'frequency_plan_id': 'US_902_928_FSB_2',\n",
       "   'frequency_plan_ids': ['US_902_928_FSB_2']},\n",
       "  {'ids': {'gateway_id': 'fngw-10001', 'eui': '343632383C006E00'},\n",
       "   'created_at': '2022-01-31T15:26:55.845Z',\n",
       "   'updated_at': '2023-03-20T16:46:10.611929Z',\n",
       "   'name': 'CUNY ASRC Observatory',\n",
       "   'description': 'CUNY ASRC Observatory\\nwifi e34%GH!@9L\\nvpn3.remotewinbox.com:61055',\n",
       "   'gateway_server_address': 'nam1.cloud.thethings.network',\n",
       "   'frequency_plan_id': 'US_902_928_FSB_2',\n",
       "   'frequency_plan_ids': ['US_902_928_FSB_2']},\n",
       "  {'ids': {'gateway_id': 'kona-mega', 'eui': '647FDAFFFE005BD6'},\n",
       "   'created_at': '2022-01-02T20:06:07.659Z',\n",
       "   'updated_at': '2022-06-24T14:37:56.681Z',\n",
       "   'name': 'Tektelic Kona Mega',\n",
       "   'gateway_server_address': 'nam1.cloud.thethings.network',\n",
       "   'frequency_plan_id': 'US_902_928_FSB_2',\n",
       "   'frequency_plan_ids': ['US_902_928_FSB_2']},\n",
       "  {'ids': {'gateway_id': 'floodnet-ltap-gw-3235313237006e00',\n",
       "    'eui': '3235313237006E00'},\n",
       "   'created_at': '2021-11-30T16:33:14.538Z',\n",
       "   'updated_at': '2022-12-21T18:47:43.947523Z',\n",
       "   'name': 'FloodNet Pioneer Works Red Hook',\n",
       "   'description': 'WiFi AP: floodnet-ltap-ap\\nPW 2G IP: 192.168.8.175',\n",
       "   'gateway_server_address': 'nam1.cloud.thethings.network',\n",
       "   'frequency_plan_id': 'US_902_928_FSB_2',\n",
       "   'frequency_plan_ids': ['US_902_928_FSB_2']},\n",
       "  {'ids': {'gateway_id': 'fngw-10000', 'eui': '343632384A004000'},\n",
       "   'created_at': '2021-11-03T21:19:25.362Z',\n",
       "   'updated_at': '2023-03-20T16:49:22.395317Z',\n",
       "   'name': 'floodnet in Hamilton Beach',\n",
       "   'description': 'mikrotik lora9 on roof of WHBVFD firehouse \\non remotewinbox wifi N63n5adm1n, routeros admin N63n5adm1n\\nvpn3.remotewinbox.com:65041\\n',\n",
       "   'gateway_server_address': 'nam1.cloud.thethings.network',\n",
       "   'frequency_plan_id': 'US_902_928_FSB_2',\n",
       "   'frequency_plan_ids': ['US_902_928_FSB_2']},\n",
       "  {'ids': {'gateway_id': 'ttn-nyc-00-08-00-4a-6c-58',\n",
       "    'eui': '00800000A00036B8'},\n",
       "   'created_at': '2021-08-25T21:12:53.163Z',\n",
       "   'updated_at': '2021-08-25T21:12:53.163Z',\n",
       "   'name': 'thethings.nyc #6 (CUSP NYU 370 Jay St.)',\n",
       "   'gateway_server_address': 'nam1.cloud.thethings.network',\n",
       "   'frequency_plan_id': 'US_902_928_FSB_2',\n",
       "   'frequency_plan_ids': ['US_902_928_FSB_2']},\n",
       "  {'ids': {'gateway_id': 'ngens-01-v3', 'eui': '343632383E003000'},\n",
       "   'created_at': '2021-06-08T20:49:49.828Z',\n",
       "   'updated_at': '2023-03-20T16:50:17.038031Z',\n",
       "   'name': 'floodnet at RISE Rockaway',\n",
       "   'description': 'Setup 6.23.2021 by Ilir and Alban.\\nwifi N63n5adm1n, routeros admin N76!jh89k5\\nvpn3.remotewinbox.com:58034',\n",
       "   'gateway_server_address': 'nam1.cloud.thethings.network',\n",
       "   'frequency_plan_id': 'US_902_928_FSB_2',\n",
       "   'frequency_plan_ids': ['US_902_928_FSB_2']},\n",
       "  {'ids': {'gateway_id': 'nyc-mocto-1', 'eui': '3235313213004700'},\n",
       "   'created_at': '2021-04-28T02:24:00.901Z',\n",
       "   'updated_at': '2021-06-30T16:51:45.252Z',\n",
       "   'name': 'PS189-BK',\n",
       "   'description': 'NYC MOCTO Central Brooklyn Gateway at PS189',\n",
       "   'gateway_server_address': 'nam1.cloud.thethings.network',\n",
       "   'frequency_plan_id': 'US_902_928_FSB_2',\n",
       "   'frequency_plan_ids': ['US_902_928_FSB_2']}]}"
      ]
     },
     "execution_count": 10,
     "metadata": {},
     "output_type": "execute_result"
    }
   ],
   "source": [
    "data"
   ]
  },
  {
   "cell_type": "code",
   "execution_count": 5,
   "id": "c5bf647c-c61a-4e84-ad92-919b8163b61a",
   "metadata": {
    "tags": []
   },
   "outputs": [
    {
     "name": "stderr",
     "output_type": "stream",
     "text": [
      "/Users/ashoktimsina/Desktop/Floodnet2/floodnet/lib/python3.7/site-packages/pandas/core/indexing.py:1596: SettingWithCopyWarning: \n",
      "A value is trying to be set on a copy of a slice from a DataFrame.\n",
      "Try using .loc[row_indexer,col_indexer] = value instead\n",
      "\n",
      "See the caveats in the documentation: https://pandas.pydata.org/pandas-docs/stable/user_guide/indexing.html#returning-a-view-versus-a-copy\n",
      "  self.obj[key] = _infer_fill_value(value)\n",
      "/Users/ashoktimsina/Desktop/Floodnet2/floodnet/lib/python3.7/site-packages/pandas/core/indexing.py:1743: SettingWithCopyWarning: \n",
      "A value is trying to be set on a copy of a slice from a DataFrame.\n",
      "Try using .loc[row_indexer,col_indexer] = value instead\n",
      "\n",
      "See the caveats in the documentation: https://pandas.pydata.org/pandas-docs/stable/user_guide/indexing.html#returning-a-view-versus-a-copy\n",
      "  isetter(ilocs[0], value)\n"
     ]
    }
   ],
   "source": [
    "df_subset.loc[:,'gateway_id'] = gateway_ids = [ids['gateway_id'] for ids in df_subset['ids']]\n",
    "df_subset.loc[:,'eui'] = gateway_ids = [ids['eui'] for ids in df_subset['ids']]\n"
   ]
  },
  {
   "cell_type": "code",
   "execution_count": 6,
   "id": "63af0409-d589-4e3b-971e-cc845a00cfa4",
   "metadata": {
    "tags": []
   },
   "outputs": [
    {
     "name": "stderr",
     "output_type": "stream",
     "text": [
      "/Users/ashoktimsina/Desktop/Floodnet2/floodnet/lib/python3.7/site-packages/pandas/core/frame.py:4174: SettingWithCopyWarning: \n",
      "A value is trying to be set on a copy of a slice from a DataFrame\n",
      "\n",
      "See the caveats in the documentation: https://pandas.pydata.org/pandas-docs/stable/user_guide/indexing.html#returning-a-view-versus-a-copy\n",
      "  errors=errors,\n"
     ]
    }
   ],
   "source": [
    "df_subset.drop(['ids'], inplace=True, axis=1)"
   ]
  },
  {
   "cell_type": "code",
   "execution_count": 7,
   "id": "b9dc4288-25c0-48f8-80b0-20b9a5defe0c",
   "metadata": {
    "tags": []
   },
   "outputs": [
    {
     "data": {
      "text/plain": [
       "Index(['name', 'gateway_server_address', 'description', 'frequency_plan_ids',\n",
       "       'gateway_id', 'eui'],\n",
       "      dtype='object')"
      ]
     },
     "execution_count": 7,
     "metadata": {},
     "output_type": "execute_result"
    }
   ],
   "source": [
    "df_subset.columns"
   ]
  },
  {
   "cell_type": "code",
   "execution_count": 8,
   "id": "fdd048a6-bc46-4a00-bd40-da957351f3e7",
   "metadata": {
    "tags": []
   },
   "outputs": [],
   "source": [
    "column_order = ['gateway_id', 'eui', 'name', 'gateway_server_address', 'description', 'frequency_plan_ids']\n",
    "final_df = df_subset.reindex(columns=column_order)"
   ]
  },
  {
   "cell_type": "code",
   "execution_count": 10,
   "id": "d2eba584-d404-4369-b9a6-d4b7cdbe990d",
   "metadata": {
    "tags": []
   },
   "outputs": [],
   "source": [
    "final_df.to_csv(\"gateway_list.csv\")"
   ]
  },
  {
   "cell_type": "code",
   "execution_count": null,
   "id": "6a3c527c-a1ba-4570-ae74-2afad3cac139",
   "metadata": {},
   "outputs": [],
   "source": []
  }
 ],
 "metadata": {
  "kernelspec": {
   "display_name": "floodnet",
   "language": "python",
   "name": "floodnet"
  },
  "language_info": {
   "codemirror_mode": {
    "name": "ipython",
    "version": 3
   },
   "file_extension": ".py",
   "mimetype": "text/x-python",
   "name": "python",
   "nbconvert_exporter": "python",
   "pygments_lexer": "ipython3",
   "version": "3.7.0"
  }
 },
 "nbformat": 4,
 "nbformat_minor": 5
}
