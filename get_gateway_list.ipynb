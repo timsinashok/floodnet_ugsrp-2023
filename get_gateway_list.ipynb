{
 "cells": [
  {
   "cell_type": "markdown",
   "id": "0c59f78a-05ce-404c-a179-b1bdcbadee34",
   "metadata": {},
   "source": [
    "## This notebook gets the detail of gateways from the things network database and saves it in a csv file. \n",
    "It queries for gateway_id, eui, name, gateway_server_address, description and frequency_plan_ids associated with the gateways."
   ]
  },
  {
   "cell_type": "code",
   "execution_count": 1,
   "id": "3f39440a-284e-45ce-bc87-6a5416032bc5",
   "metadata": {
    "tags": []
   },
   "outputs": [],
   "source": [
    "import requests\n",
    "import pandas as pd"
   ]
  },
  {
   "cell_type": "code",
   "execution_count": 2,
   "id": "c5b25b6c-b8ba-4d9e-ace3-847e8f9be79a",
   "metadata": {
    "tags": []
   },
   "outputs": [],
   "source": [
    "## getting api key from secrets.json\n",
    "import json\n",
    "\n",
    "with open('secrets.json', 'r') as file:\n",
    "    file_contents = json.load(file)\n",
    "    api_key = file_contents['the_things_network']['api_key']"
   ]
  },
  {
   "cell_type": "code",
   "execution_count": 3,
   "id": "42acc95f-9746-4632-b59d-76ce33f8f53e",
   "metadata": {
    "tags": []
   },
   "outputs": [],
   "source": [
    "# API endpoint URL\n",
    "url = \"https://eu1.cloud.thethings.network/api/v3/gateways?page=1&limit=20&order=-created_at&field_mask=name,description,frequency_plan_ids,gateway_server_address\"\n",
    "\n",
    "# API key for authentication\n",
    "api_key = \"NNSXS.WZ4B7FZGDLKCM6XJEQB6DMNAOQYJL7ODMYY6ELA.CR6ACJD3Q2OV3NMCZTSOSR4T5YGH6PDCA7IDJGEGNZ3Q3OY5EWTQ\"\n",
    "\n",
    "# Request headers\n",
    "headers = {\n",
    "    \"Authorization\": f\"Bearer {api_key}\",\n",
    "    \"Content-Type\": \"application/json\"\n",
    "\n",
    "}"
   ]
  },
  {
   "cell_type": "code",
   "execution_count": 4,
   "id": "9c77d36b-d6b0-4827-8bd8-e504f104adc9",
   "metadata": {
    "tags": []
   },
   "outputs": [],
   "source": [
    "try:\n",
    "    # Send GET request to the API endpoint\n",
    "    response = requests.get(url, headers=headers)\n",
    "\n",
    "    # Check if the request was successful (status code 200)\n",
    "    if response.status_code == 200:\n",
    "        # Access the response data\n",
    "        data = response.json()\n",
    "\n",
    "        # Process the data as needed\n",
    "        gateway_list = data[\"gateways\"]\n",
    "\n",
    "        # Convert the list of dictionaries to a DataFrame\n",
    "        df = pd.DataFrame(gateway_list)\n",
    "\n",
    "        # Specify the desired columns\n",
    "        columns = ['ids', \"name\", \"gateway_server_address\", \"description\", \"frequency_plan_ids\"]\n",
    "\n",
    "        # Subset the DataFrame with the desired columns\n",
    "        df_subset = df[columns]\n",
    "\n",
    "    else:\n",
    "        print(f\"Request failed with status code {response.status_code}\")\n",
    "except requests.exceptions.RequestException as e:\n",
    "    print(f\"An error occurred: {e}\")\n"
   ]
  },
  {
   "cell_type": "code",
   "execution_count": 5,
   "id": "c5bf647c-c61a-4e84-ad92-919b8163b61a",
   "metadata": {
    "tags": []
   },
   "outputs": [
    {
     "name": "stderr",
     "output_type": "stream",
     "text": [
      "/Users/ashoktimsina/Desktop/Floodnet2/floodnet/lib/python3.7/site-packages/pandas/core/indexing.py:1596: SettingWithCopyWarning: \n",
      "A value is trying to be set on a copy of a slice from a DataFrame.\n",
      "Try using .loc[row_indexer,col_indexer] = value instead\n",
      "\n",
      "See the caveats in the documentation: https://pandas.pydata.org/pandas-docs/stable/user_guide/indexing.html#returning-a-view-versus-a-copy\n",
      "  self.obj[key] = _infer_fill_value(value)\n",
      "/Users/ashoktimsina/Desktop/Floodnet2/floodnet/lib/python3.7/site-packages/pandas/core/indexing.py:1743: SettingWithCopyWarning: \n",
      "A value is trying to be set on a copy of a slice from a DataFrame.\n",
      "Try using .loc[row_indexer,col_indexer] = value instead\n",
      "\n",
      "See the caveats in the documentation: https://pandas.pydata.org/pandas-docs/stable/user_guide/indexing.html#returning-a-view-versus-a-copy\n",
      "  isetter(ilocs[0], value)\n"
     ]
    }
   ],
   "source": [
    "df_subset.loc[:,'gateway_id'] = gateway_ids = [ids['gateway_id'] for ids in df_subset['ids']]\n",
    "df_subset.loc[:,'eui'] = gateway_ids = [ids['eui'] for ids in df_subset['ids']]\n"
   ]
  },
  {
   "cell_type": "code",
   "execution_count": 6,
   "id": "63af0409-d589-4e3b-971e-cc845a00cfa4",
   "metadata": {
    "tags": []
   },
   "outputs": [
    {
     "name": "stderr",
     "output_type": "stream",
     "text": [
      "/Users/ashoktimsina/Desktop/Floodnet2/floodnet/lib/python3.7/site-packages/pandas/core/frame.py:4174: SettingWithCopyWarning: \n",
      "A value is trying to be set on a copy of a slice from a DataFrame\n",
      "\n",
      "See the caveats in the documentation: https://pandas.pydata.org/pandas-docs/stable/user_guide/indexing.html#returning-a-view-versus-a-copy\n",
      "  errors=errors,\n"
     ]
    }
   ],
   "source": [
    "df_subset.drop(['ids'], inplace=True, axis=1)"
   ]
  },
  {
   "cell_type": "code",
   "execution_count": 7,
   "id": "b9dc4288-25c0-48f8-80b0-20b9a5defe0c",
   "metadata": {
    "tags": []
   },
   "outputs": [
    {
     "data": {
      "text/plain": [
       "Index(['name', 'gateway_server_address', 'description', 'frequency_plan_ids',\n",
       "       'gateway_id', 'eui'],\n",
       "      dtype='object')"
      ]
     },
     "execution_count": 7,
     "metadata": {},
     "output_type": "execute_result"
    }
   ],
   "source": [
    "df_subset.columns"
   ]
  },
  {
   "cell_type": "code",
   "execution_count": 8,
   "id": "fdd048a6-bc46-4a00-bd40-da957351f3e7",
   "metadata": {
    "tags": []
   },
   "outputs": [],
   "source": [
    "column_order = ['gateway_id', 'eui', 'name', 'gateway_server_address', 'description', 'frequency_plan_ids']\n",
    "final_df = df_subset.reindex(columns=column_order)"
   ]
  },
  {
   "cell_type": "code",
   "execution_count": 9,
   "id": "d2eba584-d404-4369-b9a6-d4b7cdbe990d",
   "metadata": {
    "tags": []
   },
   "outputs": [],
   "source": [
    "final_df.to_csv(\"gateway_list.csv\")"
   ]
  },
  {
   "cell_type": "code",
   "execution_count": null,
   "id": "6a3c527c-a1ba-4570-ae74-2afad3cac139",
   "metadata": {},
   "outputs": [],
   "source": []
  }
 ],
 "metadata": {
  "kernelspec": {
   "display_name": "floodnet",
   "language": "python",
   "name": "floodnet"
  },
  "language_info": {
   "codemirror_mode": {
    "name": "ipython",
    "version": 3
   },
   "file_extension": ".py",
   "mimetype": "text/x-python",
   "name": "python",
   "nbconvert_exporter": "python",
   "pygments_lexer": "ipython3",
   "version": "3.7.0"
  }
 },
 "nbformat": 4,
 "nbformat_minor": 5
}
